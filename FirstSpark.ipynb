{
 "cells": [
  {
   "cell_type": "markdown",
   "metadata": {},
   "source": [
    "### Apache Spark Basics\n",
    "---"
   ]
  },
  {
   "cell_type": "markdown",
   "metadata": {},
   "source": [
    "### Import  Librieates"
   ]
  },
  {
   "cell_type": "code",
   "execution_count": 1,
   "metadata": {},
   "outputs": [],
   "source": [
    "import findspark\n",
    "import os\n",
    "from pyspark.sql  import SparkSession\n",
    "from pyspark.sql import Row\n",
    "from pyspark.sql.types import FloatType\n",
    "from pyspark.sql.functions import col"
   ]
  },
  {
   "cell_type": "markdown",
   "metadata": {},
   "source": [
    "### Initialize Spark"
   ]
  },
  {
   "cell_type": "code",
   "execution_count": 2,
   "metadata": {},
   "outputs": [],
   "source": [
    "findspark.init(\"C:\\\\Users\\S727953\\OneDrive\\Software\\EGS4.3.4\\MySpark\\spark\")"
   ]
  },
  {
   "cell_type": "markdown",
   "metadata": {},
   "source": [
    "### Setup Enviroment Variable for Hadoop and Java"
   ]
  },
  {
   "cell_type": "code",
   "execution_count": 3,
   "metadata": {},
   "outputs": [],
   "source": [
    "os.environ['JAVA_HOME'] ='C:\\\\Users\\S727953\\OneDrive\\Software\\EGS4.3.4\\jdk\\jdk1.8u121'\n",
    "os.environ['HADOOP_HOME']  = \"C:\\\\Users\\S727953\\OneDrive\\Software\\EGS4.3.4\\MySpark\\hadoop\\bin\""
   ]
  },
  {
   "cell_type": "markdown",
   "metadata": {},
   "source": [
    "### Check the Spark installed directory"
   ]
  },
  {
   "cell_type": "code",
   "execution_count": 4,
   "metadata": {},
   "outputs": [
    {
     "name": "stdout",
     "output_type": "stream",
     "text": [
      "C:\\Users\\S727953\\OneDrive\\Software\\EGS4.3.4\\MySpark\\spark\n"
     ]
    }
   ],
   "source": [
    "print(findspark.find())"
   ]
  },
  {
   "cell_type": "markdown",
   "metadata": {},
   "source": [
    "### Create Spark Session and Sprk Context"
   ]
  },
  {
   "cell_type": "code",
   "execution_count": 5,
   "metadata": {},
   "outputs": [],
   "source": [
    "def createSession():\n",
    "    spark = SparkSession.builder.master(\"local\").appName(\"Linear Regression Model\").config(\"spark.executor.memory\", \"1gb\") \\\n",
    "   .getOrCreate()\n",
    "    sc = spark.sparkContext\n",
    "    return sc"
   ]
  },
  {
   "cell_type": "markdown",
   "metadata": {},
   "source": [
    "### Load Spark Context and Read Data Files"
   ]
  },
  {
   "cell_type": "code",
   "execution_count": 6,
   "metadata": {},
   "outputs": [],
   "source": [
    "sc=createSession()\n",
    "# Load in the data\n",
    "rdd=sc.textFile('C:\\GIT\\POCs\\ML\\Spark_Tutorials\\cal_housing\\cal_housing.data')\n",
    "header=sc.textFile('C:\\GIT\\POCs\\ML\\Spark_Tutorials\\cal_housing/cal_housing.domain')"
   ]
  },
  {
   "cell_type": "code",
   "execution_count": 7,
   "metadata": {},
   "outputs": [
    {
     "data": {
      "text/plain": [
       "['-122.230000,37.880000,41.000000,880.000000,129.000000,322.000000,126.000000,8.325200,452600.000000',\n",
       " '-122.220000,37.860000,21.000000,7099.000000,1106.000000,2401.000000,1138.000000,8.301400,358500.000000',\n",
       " '-122.240000,37.850000,52.000000,1467.000000,190.000000,496.000000,177.000000,7.257400,352100.000000',\n",
       " '-122.250000,37.850000,52.000000,1274.000000,235.000000,558.000000,219.000000,5.643100,341300.000000',\n",
       " '-122.250000,37.850000,52.000000,1627.000000,280.000000,565.000000,259.000000,3.846200,342200.000000',\n",
       " '-122.250000,37.850000,52.000000,919.000000,213.000000,413.000000,193.000000,4.036800,269700.000000',\n",
       " '-122.250000,37.840000,52.000000,2535.000000,489.000000,1094.000000,514.000000,3.659100,299200.000000',\n",
       " '-122.250000,37.840000,52.000000,3104.000000,687.000000,1157.000000,647.000000,3.120000,241400.000000',\n",
       " '-122.260000,37.840000,42.000000,2555.000000,665.000000,1206.000000,595.000000,2.080400,226700.000000',\n",
       " '-122.250000,37.840000,52.000000,3549.000000,707.000000,1551.000000,714.000000,3.691200,261100.000000']"
      ]
     },
     "execution_count": 7,
     "metadata": {},
     "output_type": "execute_result"
    }
   ],
   "source": [
    "rdd.take(10)"
   ]
  },
  {
   "cell_type": "code",
   "execution_count": 8,
   "metadata": {},
   "outputs": [],
   "source": [
    "# # Split lines on commas\n",
    "# rdd = rdd.map(lambda line: line.split(\",\"))"
   ]
  },
  {
   "cell_type": "code",
   "execution_count": 9,
   "metadata": {},
   "outputs": [
    {
     "data": {
      "text/plain": [
       "'-122.230000,37.880000,41.000000,880.000000,129.000000,322.000000,126.000000,8.325200,452600.000000'"
      ]
     },
     "execution_count": 9,
     "metadata": {},
     "output_type": "execute_result"
    }
   ],
   "source": [
    "rdd.first()"
   ]
  },
  {
   "cell_type": "code",
   "execution_count": 10,
   "metadata": {},
   "outputs": [
    {
     "data": {
      "text/plain": [
       "['-124.350000,40.540000,52.000000,1820.000000,300.000000,806.000000,270.000000,3.014700,94600.000000',\n",
       " '-124.300000,41.840000,17.000000,2677.000000,531.000000,1244.000000,456.000000,3.031300,103600.000000']"
      ]
     },
     "execution_count": 10,
     "metadata": {},
     "output_type": "execute_result"
    }
   ],
   "source": [
    "rdd.top(2)"
   ]
  },
  {
   "cell_type": "code",
   "execution_count": 11,
   "metadata": {},
   "outputs": [],
   "source": [
    "# header.collect()"
   ]
  },
  {
   "cell_type": "markdown",
   "metadata": {},
   "source": [
    "### Transform RDD to DataFrame"
   ]
  },
  {
   "cell_type": "code",
   "execution_count": 12,
   "metadata": {},
   "outputs": [
    {
     "data": {
      "text/plain": [
       "['-122.230000,37.880000,41.000000,880.000000,129.000000,322.000000,126.000000,8.325200,452600.000000']"
      ]
     },
     "execution_count": 12,
     "metadata": {},
     "output_type": "execute_result"
    }
   ],
   "source": [
    "df=rdd\n",
    "df.take(1)"
   ]
  },
  {
   "cell_type": "code",
   "execution_count": 13,
   "metadata": {},
   "outputs": [],
   "source": [
    "df=rdd.map(lambda  line: line.split(\",\")).map(lambda line: Row(line[0],\n",
    "                                                               line[1],\n",
    "                                                               line[2],\n",
    "                                                               line[3],\n",
    "                                                               line[4],\n",
    "                                                               line[5],\n",
    "                                                               line[6],\n",
    "                                                               line[7],\n",
    "                                                               line[8]))\n",
    "df=df.toDF(['longitude',\n",
    "            'latitude',\n",
    "            'housingMedianAge',\n",
    "            'totalRooms',\n",
    "            'totalBedRooms',\n",
    "            'population',\n",
    "            'households',\n",
    "            'medianIncome',\n",
    "            'medianHouseValue'])"
   ]
  },
  {
   "cell_type": "code",
   "execution_count": 14,
   "metadata": {},
   "outputs": [
    {
     "name": "stdout",
     "output_type": "stream",
     "text": [
      "+-----------+---------+----------------+-----------+-------------+-----------+-----------+------------+----------------+\n",
      "|  longitude| latitude|housingMedianAge| totalRooms|totalBedRooms| population| households|medianIncome|medianHouseValue|\n",
      "+-----------+---------+----------------+-----------+-------------+-----------+-----------+------------+----------------+\n",
      "|-122.230000|37.880000|       41.000000| 880.000000|   129.000000| 322.000000| 126.000000|    8.325200|   452600.000000|\n",
      "|-122.220000|37.860000|       21.000000|7099.000000|  1106.000000|2401.000000|1138.000000|    8.301400|   358500.000000|\n",
      "|-122.240000|37.850000|       52.000000|1467.000000|   190.000000| 496.000000| 177.000000|    7.257400|   352100.000000|\n",
      "|-122.250000|37.850000|       52.000000|1274.000000|   235.000000| 558.000000| 219.000000|    5.643100|   341300.000000|\n",
      "|-122.250000|37.850000|       52.000000|1627.000000|   280.000000| 565.000000| 259.000000|    3.846200|   342200.000000|\n",
      "|-122.250000|37.850000|       52.000000| 919.000000|   213.000000| 413.000000| 193.000000|    4.036800|   269700.000000|\n",
      "|-122.250000|37.840000|       52.000000|2535.000000|   489.000000|1094.000000| 514.000000|    3.659100|   299200.000000|\n",
      "|-122.250000|37.840000|       52.000000|3104.000000|   687.000000|1157.000000| 647.000000|    3.120000|   241400.000000|\n",
      "|-122.260000|37.840000|       42.000000|2555.000000|   665.000000|1206.000000| 595.000000|    2.080400|   226700.000000|\n",
      "|-122.250000|37.840000|       52.000000|3549.000000|   707.000000|1551.000000| 714.000000|    3.691200|   261100.000000|\n",
      "+-----------+---------+----------------+-----------+-------------+-----------+-----------+------------+----------------+\n",
      "only showing top 10 rows\n",
      "\n"
     ]
    }
   ],
   "source": [
    "df.show(10)"
   ]
  },
  {
   "cell_type": "code",
   "execution_count": 15,
   "metadata": {},
   "outputs": [
    {
     "name": "stdout",
     "output_type": "stream",
     "text": [
      "root\n",
      " |-- longitude: string (nullable = true)\n",
      " |-- latitude: string (nullable = true)\n",
      " |-- housingMedianAge: string (nullable = true)\n",
      " |-- totalRooms: string (nullable = true)\n",
      " |-- totalBedRooms: string (nullable = true)\n",
      " |-- population: string (nullable = true)\n",
      " |-- households: string (nullable = true)\n",
      " |-- medianIncome: string (nullable = true)\n",
      " |-- medianHouseValue: string (nullable = true)\n",
      "\n"
     ]
    }
   ],
   "source": [
    "# df.columns\n",
    "df.printSchema()"
   ]
  },
  {
   "cell_type": "code",
   "execution_count": 16,
   "metadata": {},
   "outputs": [],
   "source": [
    "df=df.withColumn(\"longitude\",df[\"longitude\"].cast(FloatType())).withColumn('latitude',df['latitude'].cast(FloatType())) .withColumn(\"housingMedianAge\",df[\"housingMedianAge\"].cast(FloatType())).withColumn(\"totalRooms\", df[\"totalRooms\"].cast(FloatType()))  .withColumn(\"totalBedRooms\", df[\"totalBedRooms\"].cast(FloatType())).withColumn(\"population\", df[\"population\"].cast(FloatType()))  .withColumn(\"households\", df[\"households\"].cast(FloatType())).withColumn(\"medianIncome\", df[\"medianIncome\"].cast(FloatType())) .withColumn(\"medianHouseValue\", df[\"medianHouseValue\"].cast(FloatType()))"
   ]
  },
  {
   "cell_type": "code",
   "execution_count": 17,
   "metadata": {},
   "outputs": [
    {
     "name": "stdout",
     "output_type": "stream",
     "text": [
      "root\n",
      " |-- longitude: float (nullable = true)\n",
      " |-- latitude: float (nullable = true)\n",
      " |-- housingMedianAge: float (nullable = true)\n",
      " |-- totalRooms: float (nullable = true)\n",
      " |-- totalBedRooms: float (nullable = true)\n",
      " |-- population: float (nullable = true)\n",
      " |-- households: float (nullable = true)\n",
      " |-- medianIncome: float (nullable = true)\n",
      " |-- medianHouseValue: float (nullable = true)\n",
      "\n"
     ]
    }
   ],
   "source": [
    "df.printSchema()"
   ]
  },
  {
   "cell_type": "markdown",
   "metadata": {},
   "source": [
    "### Write a User Function to convert the data type of DataFrame columns"
   ]
  },
  {
   "cell_type": "code",
   "execution_count": 18,
   "metadata": {},
   "outputs": [],
   "source": [
    "def convertColumnTyupe(df,colNames,newType):    \n",
    "    for colName in colNames:\n",
    "        print(colName)\n",
    "        df=df.withColumn(colName, df[colName].cast(newType))\n",
    "    return df"
   ]
  },
  {
   "cell_type": "code",
   "execution_count": 19,
   "metadata": {},
   "outputs": [
    {
     "name": "stdout",
     "output_type": "stream",
     "text": [
      "longitude\n",
      "latitude\n",
      "housingMedianAge\n",
      "totalRooms\n",
      "totalBedRooms\n",
      "population\n",
      "households\n",
      "medianIncome\n",
      "medianHouseValue\n"
     ]
    }
   ],
   "source": [
    "# Assign all column names to `columns`\n",
    "colNames =df.columns\n",
    "newType=FloatType()\n",
    "\n",
    "# Convert DataFrame columns to FloateType()\n",
    "df=convertColumnTyupe(df, colNames, newType)"
   ]
  },
  {
   "cell_type": "code",
   "execution_count": 20,
   "metadata": {},
   "outputs": [
    {
     "name": "stdout",
     "output_type": "stream",
     "text": [
      "root\n",
      " |-- longitude: float (nullable = true)\n",
      " |-- latitude: float (nullable = true)\n",
      " |-- housingMedianAge: float (nullable = true)\n",
      " |-- totalRooms: float (nullable = true)\n",
      " |-- totalBedRooms: float (nullable = true)\n",
      " |-- population: float (nullable = true)\n",
      " |-- households: float (nullable = true)\n",
      " |-- medianIncome: float (nullable = true)\n",
      " |-- medianHouseValue: float (nullable = true)\n",
      "\n"
     ]
    }
   ],
   "source": [
    "df.printSchema()"
   ]
  },
  {
   "cell_type": "code",
   "execution_count": 21,
   "metadata": {},
   "outputs": [
    {
     "name": "stdout",
     "output_type": "stream",
     "text": [
      "+----------+----------+\n",
      "|population|totalRooms|\n",
      "+----------+----------+\n",
      "|     322.0|     880.0|\n",
      "|    2401.0|    7099.0|\n",
      "|     496.0|    1467.0|\n",
      "|     558.0|    1274.0|\n",
      "|     565.0|    1627.0|\n",
      "+----------+----------+\n",
      "only showing top 5 rows\n",
      "\n"
     ]
    }
   ],
   "source": [
    "df.select('population','totalRooms').show(5)"
   ]
  },
  {
   "cell_type": "code",
   "execution_count": 22,
   "metadata": {},
   "outputs": [
    {
     "name": "stdout",
     "output_type": "stream",
     "text": [
      "+----------------+-----+\n",
      "|housingMedianAge|count|\n",
      "+----------------+-----+\n",
      "|             1.0|    4|\n",
      "|             2.0|   58|\n",
      "|             3.0|   62|\n",
      "|             4.0|  191|\n",
      "|             5.0|  244|\n",
      "|             6.0|  160|\n",
      "|             7.0|  175|\n",
      "|             8.0|  206|\n",
      "|             9.0|  205|\n",
      "|            10.0|  264|\n",
      "|            11.0|  254|\n",
      "|            12.0|  238|\n",
      "|            13.0|  302|\n",
      "|            14.0|  412|\n",
      "|            15.0|  512|\n",
      "|            16.0|  771|\n",
      "|            17.0|  698|\n",
      "|            18.0|  570|\n",
      "|            19.0|  502|\n",
      "|            20.0|  465|\n",
      "+----------------+-----+\n",
      "only showing top 20 rows\n",
      "\n"
     ]
    }
   ],
   "source": [
    "df.groupBy('housingMedianAge').count().sort('housingMedianAge', ascending=True).show()"
   ]
  },
  {
   "cell_type": "code",
   "execution_count": 23,
   "metadata": {},
   "outputs": [
    {
     "name": "stdout",
     "output_type": "stream",
     "text": [
      "+-------+-------------------+-----------------+------------------+------------------+-----------------+------------------+-----------------+------------------+------------------+\n",
      "|summary|          longitude|         latitude|  housingMedianAge|        totalRooms|    totalBedRooms|        population|       households|      medianIncome|  medianHouseValue|\n",
      "+-------+-------------------+-----------------+------------------+------------------+-----------------+------------------+-----------------+------------------+------------------+\n",
      "|  count|              20640|            20640|             20640|             20640|            20640|             20640|            20640|             20640|             20640|\n",
      "|   mean|-119.56970444871473|35.63186143109965|28.639486434108527|2635.7630813953488|537.8980135658915|1425.4767441860465|499.5396802325581|3.8706710030346416|206855.81690891474|\n",
      "| stddev|  2.003531742932898|2.135952380602968| 12.58555761211163|2181.6152515827944| 421.247905943133|  1132.46212176534|382.3297528316098|1.8998217183639696|115395.61587441359|\n",
      "|    min|            -124.35|            32.54|               1.0|               2.0|              1.0|               3.0|              1.0|            0.4999|           14999.0|\n",
      "|    max|            -114.31|            41.95|              52.0|           39320.0|           6445.0|           35682.0|           6082.0|           15.0001|          500001.0|\n",
      "+-------+-------------------+-----------------+------------------+------------------+-----------------+------------------+-----------------+------------------+------------------+\n",
      "\n"
     ]
    }
   ],
   "source": [
    "df.describe().show()"
   ]
  },
  {
   "cell_type": "markdown",
   "metadata": {},
   "source": [
    "### Adjust the values of `medianHouseValue`"
   ]
  },
  {
   "cell_type": "code",
   "execution_count": 24,
   "metadata": {},
   "outputs": [],
   "source": [
    "df=df.withColumn('medianHouseValue', col('medianHouseValue')/10000)"
   ]
  },
  {
   "cell_type": "code",
   "execution_count": 25,
   "metadata": {},
   "outputs": [
    {
     "name": "stdout",
     "output_type": "stream",
     "text": [
      "+---------+--------+----------------+----------+-------------+----------+----------+------------+----------------+\n",
      "|longitude|latitude|housingMedianAge|totalRooms|totalBedRooms|population|households|medianIncome|medianHouseValue|\n",
      "+---------+--------+----------------+----------+-------------+----------+----------+------------+----------------+\n",
      "|  -122.23|   37.88|            41.0|     880.0|        129.0|     322.0|     126.0|      8.3252|           45.26|\n",
      "|  -122.22|   37.86|            21.0|    7099.0|       1106.0|    2401.0|    1138.0|      8.3014|           35.85|\n",
      "|  -122.24|   37.85|            52.0|    1467.0|        190.0|     496.0|     177.0|      7.2574|           35.21|\n",
      "|  -122.25|   37.85|            52.0|    1274.0|        235.0|     558.0|     219.0|      5.6431|           34.13|\n",
      "|  -122.25|   37.85|            52.0|    1627.0|        280.0|     565.0|     259.0|      3.8462|           34.22|\n",
      "|  -122.25|   37.85|            52.0|     919.0|        213.0|     413.0|     193.0|      4.0368|           26.97|\n",
      "|  -122.25|   37.84|            52.0|    2535.0|        489.0|    1094.0|     514.0|      3.6591|           29.92|\n",
      "|  -122.25|   37.84|            52.0|    3104.0|        687.0|    1157.0|     647.0|        3.12|           24.14|\n",
      "|  -122.26|   37.84|            42.0|    2555.0|        665.0|    1206.0|     595.0|      2.0804|           22.67|\n",
      "|  -122.25|   37.84|            52.0|    3549.0|        707.0|    1551.0|     714.0|      3.6912|           26.11|\n",
      "|  -122.26|   37.85|            52.0|    2202.0|        434.0|     910.0|     402.0|      3.2031|           28.15|\n",
      "|  -122.26|   37.85|            52.0|    3503.0|        752.0|    1504.0|     734.0|      3.2705|           24.18|\n",
      "|  -122.26|   37.85|            52.0|    2491.0|        474.0|    1098.0|     468.0|       3.075|           21.35|\n",
      "|  -122.26|   37.84|            52.0|     696.0|        191.0|     345.0|     174.0|      2.6736|           19.13|\n",
      "|  -122.26|   37.85|            52.0|    2643.0|        626.0|    1212.0|     620.0|      1.9167|           15.92|\n",
      "|  -122.26|   37.85|            50.0|    1120.0|        283.0|     697.0|     264.0|       2.125|            14.0|\n",
      "|  -122.27|   37.85|            52.0|    1966.0|        347.0|     793.0|     331.0|       2.775|           15.25|\n",
      "|  -122.27|   37.85|            52.0|    1228.0|        293.0|     648.0|     303.0|      2.1202|           15.55|\n",
      "|  -122.26|   37.84|            50.0|    2239.0|        455.0|     990.0|     419.0|      1.9911|           15.87|\n",
      "|  -122.27|   37.84|            52.0|    1503.0|        298.0|     690.0|     275.0|      2.6033|           16.29|\n",
      "+---------+--------+----------------+----------+-------------+----------+----------+------------+----------------+\n",
      "only showing top 20 rows\n",
      "\n"
     ]
    }
   ],
   "source": [
    "df.show()"
   ]
  },
  {
   "cell_type": "markdown",
   "metadata": {},
   "source": [
    "### Feature Engineering"
   ]
  },
  {
   "cell_type": "code",
   "execution_count": 26,
   "metadata": {},
   "outputs": [],
   "source": [
    "# Divide `totalRooms` by `households`\n",
    "roomPerHousehold=df.select(col('totalRooms')/col('households'))"
   ]
  },
  {
   "cell_type": "code",
   "execution_count": 27,
   "metadata": {},
   "outputs": [],
   "source": [
    "# Divide `population` by `households`\n",
    "populationPerHousehold=df.select(col('population')/col('households'))"
   ]
  },
  {
   "cell_type": "code",
   "execution_count": 28,
   "metadata": {},
   "outputs": [],
   "source": [
    "# Divide `totalBedRooms` by `totalRooms`\n",
    "bedroomsPerHousehold=df.select(col('totalBedRooms')/col('totalRooms'))"
   ]
  },
  {
   "cell_type": "code",
   "execution_count": 29,
   "metadata": {},
   "outputs": [],
   "source": [
    "# Add the new columns to `df`\n",
    "df=df.withColumn('roomPerHousehold', col('totalRooms')/col('households')).withColumn(\"populationPerHousehold\", col(\"population\")/col(\"households\")).withColumn(\"bedroomsPerRoom\", col(\"totalBedRooms\")/col(\"totalRooms\"))"
   ]
  },
  {
   "cell_type": "code",
   "execution_count": 30,
   "metadata": {},
   "outputs": [
    {
     "data": {
      "text/plain": [
       "Row(longitude=-122.2300033569336, latitude=37.880001068115234, housingMedianAge=41.0, totalRooms=880.0, totalBedRooms=129.0, population=322.0, households=126.0, medianIncome=8.325200080871582, medianHouseValue=45.26, roomPerHousehold=6.984126984126984, populationPerHousehold=2.5555555555555554, bedroomsPerRoom=0.14659090909090908)"
      ]
     },
     "execution_count": 30,
     "metadata": {},
     "output_type": "execute_result"
    }
   ],
   "source": [
    "df.first()"
   ]
  }
 ],
 "metadata": {
  "kernelspec": {
   "display_name": "Python [default]",
   "language": "python",
   "name": "python3"
  },
  "language_info": {
   "codemirror_mode": {
    "name": "ipython",
    "version": 3
   },
   "file_extension": ".py",
   "mimetype": "text/x-python",
   "name": "python",
   "nbconvert_exporter": "python",
   "pygments_lexer": "ipython3",
   "version": "3.6.4"
  }
 },
 "nbformat": 4,
 "nbformat_minor": 2
}
