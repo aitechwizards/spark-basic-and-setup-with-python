{
 "cells": [
  {
   "cell_type": "markdown",
   "metadata": {},
   "source": [
    "### Apache Spark Basics\n",
    "-----------"
   ]
  },
  {
   "cell_type": "markdown",
   "metadata": {},
   "source": [
    "#### Import  Librieates"
   ]
  },
  {
   "cell_type": "code",
   "execution_count": 173,
   "metadata": {},
   "outputs": [],
   "source": [
    "import findspark\n",
    "import os\n",
    "from pyspark.sql  import SparkSession\n",
    "from pyspark.sql import Row\n",
    "from pyspark.sql.types import FloatType\n",
    "from pyspark.sql.functions import col"
   ]
  },
  {
   "cell_type": "markdown",
   "metadata": {},
   "source": [
    "### Initialize and provide path"
   ]
  },
  {
   "cell_type": "code",
   "execution_count": 174,
   "metadata": {},
   "outputs": [],
   "source": [
    "findspark.init(\"C:\\\\Users\\S727953\\OneDrive\\Software\\EGS4.3.4\\MySpark\\spark\")"
   ]
  },
  {
   "cell_type": "markdown",
   "metadata": {},
   "source": [
    "### Setup Enviroment Variable for Hadoop and Java"
   ]
  },
  {
   "cell_type": "code",
   "execution_count": 175,
   "metadata": {},
   "outputs": [],
   "source": [
    "os.environ['JAVA_HOME'] ='C:\\\\Users\\S727953\\OneDrive\\Software\\EGS4.3.4\\jdk\\jdk1.8u121'\n",
    "os.environ['HADOOP_HOME']  = \"C:\\\\Users\\S727953\\OneDrive\\Software\\EGS4.3.4\\MySpark\\hadoop\\bin\""
   ]
  },
  {
   "cell_type": "markdown",
   "metadata": {},
   "source": [
    "### Check the Spark installed directory"
   ]
  },
  {
   "cell_type": "code",
   "execution_count": 176,
   "metadata": {},
   "outputs": [
    {
     "name": "stdout",
     "output_type": "stream",
     "text": [
      "C:\\Users\\S727953\\OneDrive\\Software\\EGS4.3.4\\MySpark\\spark\n"
     ]
    }
   ],
   "source": [
    "print(findspark.find())"
   ]
  },
  {
   "cell_type": "markdown",
   "metadata": {},
   "source": [
    "### Create Spark Session and Sprk Context"
   ]
  },
  {
   "cell_type": "code",
   "execution_count": 177,
   "metadata": {},
   "outputs": [],
   "source": [
    "def createSession():\n",
    "    spark = SparkSession.builder.master(\"local\").appName(\"Linear Regression Model\").config(\"spark.executor.memory\", \"1gb\") \\\n",
    "   .getOrCreate()\n",
    "    sc = spark.sparkContext\n",
    "    return sc"
   ]
  },
  {
   "cell_type": "markdown",
   "metadata": {},
   "source": [
    "### Load Spark Context and Read Data Files"
   ]
  },
  {
   "cell_type": "code",
   "execution_count": 178,
   "metadata": {},
   "outputs": [],
   "source": [
    "sc=createSession()\n",
    "# Load in the data\n",
    "rdd=sc.textFile('C:\\GIT\\POCs\\ML\\Spark_Tutorials\\cal_housing\\cal_housing.data')\n",
    "header=sc.textFile('C:\\GIT\\POCs\\ML\\Spark_Tutorials\\cal_housing/cal_housing.domain')"
   ]
  },
  {
   "cell_type": "code",
   "execution_count": 179,
   "metadata": {},
   "outputs": [
    {
     "data": {
      "text/plain": [
       "['-122.230000,37.880000,41.000000,880.000000,129.000000,322.000000,126.000000,8.325200,452600.000000',\n",
       " '-122.220000,37.860000,21.000000,7099.000000,1106.000000,2401.000000,1138.000000,8.301400,358500.000000',\n",
       " '-122.240000,37.850000,52.000000,1467.000000,190.000000,496.000000,177.000000,7.257400,352100.000000',\n",
       " '-122.250000,37.850000,52.000000,1274.000000,235.000000,558.000000,219.000000,5.643100,341300.000000',\n",
       " '-122.250000,37.850000,52.000000,1627.000000,280.000000,565.000000,259.000000,3.846200,342200.000000',\n",
       " '-122.250000,37.850000,52.000000,919.000000,213.000000,413.000000,193.000000,4.036800,269700.000000',\n",
       " '-122.250000,37.840000,52.000000,2535.000000,489.000000,1094.000000,514.000000,3.659100,299200.000000',\n",
       " '-122.250000,37.840000,52.000000,3104.000000,687.000000,1157.000000,647.000000,3.120000,241400.000000',\n",
       " '-122.260000,37.840000,42.000000,2555.000000,665.000000,1206.000000,595.000000,2.080400,226700.000000',\n",
       " '-122.250000,37.840000,52.000000,3549.000000,707.000000,1551.000000,714.000000,3.691200,261100.000000']"
      ]
     },
     "execution_count": 179,
     "metadata": {},
     "output_type": "execute_result"
    }
   ],
   "source": [
    "rdd.take(10)"
   ]
  },
  {
   "cell_type": "code",
   "execution_count": 180,
   "metadata": {},
   "outputs": [],
   "source": [
    "# # Split lines on commas\n",
    "# rdd = rdd.map(lambda line: line.split(\",\"))"
   ]
  },
  {
   "cell_type": "code",
   "execution_count": 181,
   "metadata": {},
   "outputs": [
    {
     "data": {
      "text/plain": [
       "'-122.230000,37.880000,41.000000,880.000000,129.000000,322.000000,126.000000,8.325200,452600.000000'"
      ]
     },
     "execution_count": 181,
     "metadata": {},
     "output_type": "execute_result"
    }
   ],
   "source": [
    "rdd.first()"
   ]
  },
  {
   "cell_type": "code",
   "execution_count": 182,
   "metadata": {},
   "outputs": [
    {
     "data": {
      "text/plain": [
       "['-124.350000,40.540000,52.000000,1820.000000,300.000000,806.000000,270.000000,3.014700,94600.000000',\n",
       " '-124.300000,41.840000,17.000000,2677.000000,531.000000,1244.000000,456.000000,3.031300,103600.000000']"
      ]
     },
     "execution_count": 182,
     "metadata": {},
     "output_type": "execute_result"
    }
   ],
   "source": [
    "rdd.top(2)"
   ]
  },
  {
   "cell_type": "code",
   "execution_count": 183,
   "metadata": {},
   "outputs": [],
   "source": [
    "# header.collect()"
   ]
  },
  {
   "cell_type": "markdown",
   "metadata": {},
   "source": [
    "### Transform RDD to DataFrame"
   ]
  },
  {
   "cell_type": "code",
   "execution_count": 184,
   "metadata": {},
   "outputs": [
    {
     "data": {
      "text/plain": [
       "['-122.230000,37.880000,41.000000,880.000000,129.000000,322.000000,126.000000,8.325200,452600.000000']"
      ]
     },
     "execution_count": 184,
     "metadata": {},
     "output_type": "execute_result"
    }
   ],
   "source": [
    "df=rdd\n",
    "df.take(1)"
   ]
  },
  {
   "cell_type": "code",
   "execution_count": 223,
   "metadata": {},
   "outputs": [],
   "source": [
    "def Func(lines):\n",
    "    print('<<>>',lines)\n",
    "    lines = lines.lower()\n",
    "    lines = lines.split()\n",
    "    return lines\n",
    "\n",
    "rd=rdd.map(Func) \n",
    "# rd.take(5)\n",
    "\n",
    "# print(rd.take(1))\n",
    "\n",
    "# df=rd.toDF(['longitude', \n",
    "#            'latitude',\n",
    "#            'housingMedianAge',\n",
    "#            'totalRooms',\n",
    "#            'totalBedRooms',\n",
    "#            'population',\n",
    "#            'households',\n",
    "#            'medianIncome',\n",
    "#            'medianHouseValue'])"
   ]
  },
  {
   "cell_type": "code",
   "execution_count": 214,
   "metadata": {},
   "outputs": [
    {
     "name": "stdout",
     "output_type": "stream",
     "text": [
      "+---------+--------+----------------+----------+-------------+----------+----------+------------+----------------+\n",
      "|longitude|latitude|housingMedianAge|totalRooms|totalBedRooms|population|households|medianIncome|medianHouseValue|\n",
      "+---------+--------+----------------+----------+-------------+----------+----------+------------+----------------+\n",
      "|        -|       1|               2|         2|            .|         2|         3|           0|               0|\n",
      "|        -|       1|               2|         2|            .|         2|         2|           0|               0|\n",
      "|        -|       1|               2|         2|            .|         2|         4|           0|               0|\n",
      "|        -|       1|               2|         2|            .|         2|         5|           0|               0|\n",
      "|        -|       1|               2|         2|            .|         2|         5|           0|               0|\n",
      "|        -|       1|               2|         2|            .|         2|         5|           0|               0|\n",
      "|        -|       1|               2|         2|            .|         2|         5|           0|               0|\n",
      "|        -|       1|               2|         2|            .|         2|         5|           0|               0|\n",
      "|        -|       1|               2|         2|            .|         2|         6|           0|               0|\n",
      "|        -|       1|               2|         2|            .|         2|         5|           0|               0|\n",
      "+---------+--------+----------------+----------+-------------+----------+----------+------------+----------------+\n",
      "only showing top 10 rows\n",
      "\n"
     ]
    }
   ],
   "source": [
    "df.show(10)"
   ]
  },
  {
   "cell_type": "code",
   "execution_count": 134,
   "metadata": {},
   "outputs": [
    {
     "name": "stdout",
     "output_type": "stream",
     "text": [
      "root\n",
      " |-- households: string (nullable = true)\n",
      " |-- housingMedianAge: string (nullable = true)\n",
      " |-- latitude: string (nullable = true)\n",
      " |-- longitude: string (nullable = true)\n",
      " |-- medianHouseValue: string (nullable = true)\n",
      " |-- medianIncome: string (nullable = true)\n",
      " |-- population: string (nullable = true)\n",
      " |-- totalBedRooms: string (nullable = true)\n",
      " |-- totalRooms: string (nullable = true)\n",
      "\n"
     ]
    }
   ],
   "source": [
    "# df.columns\n",
    "df.printSchema()"
   ]
  },
  {
   "cell_type": "code",
   "execution_count": 135,
   "metadata": {},
   "outputs": [],
   "source": [
    "df=df.withColumn(\"longitude\",df[\"longitude\"].cast(FloatType())).withColumn('latitude',df['latitude'].cast(FloatType())) .withColumn(\"housingMedianAge\",df[\"housingMedianAge\"].cast(FloatType())).withColumn(\"totalRooms\", df[\"totalRooms\"].cast(FloatType()))  .withColumn(\"totalBedRooms\", df[\"totalBedRooms\"].cast(FloatType())).withColumn(\"population\", df[\"population\"].cast(FloatType()))  .withColumn(\"households\", df[\"households\"].cast(FloatType())).withColumn(\"medianIncome\", df[\"medianIncome\"].cast(FloatType())) .withColumn(\"medianHouseValue\", df[\"medianHouseValue\"].cast(FloatType()))"
   ]
  },
  {
   "cell_type": "code",
   "execution_count": 136,
   "metadata": {},
   "outputs": [
    {
     "name": "stdout",
     "output_type": "stream",
     "text": [
      "root\n",
      " |-- households: float (nullable = true)\n",
      " |-- housingMedianAge: float (nullable = true)\n",
      " |-- latitude: float (nullable = true)\n",
      " |-- longitude: float (nullable = true)\n",
      " |-- medianHouseValue: float (nullable = true)\n",
      " |-- medianIncome: float (nullable = true)\n",
      " |-- population: float (nullable = true)\n",
      " |-- totalBedRooms: float (nullable = true)\n",
      " |-- totalRooms: float (nullable = true)\n",
      "\n"
     ]
    }
   ],
   "source": [
    "df.printSchema()"
   ]
  },
  {
   "cell_type": "markdown",
   "metadata": {},
   "source": [
    "### Write a User Function to convert the data type of DataFrame columns"
   ]
  },
  {
   "cell_type": "code",
   "execution_count": 137,
   "metadata": {},
   "outputs": [],
   "source": [
    "def convertColumnTyupe(df,colNames,newType):    \n",
    "    for colName in colNames:\n",
    "        print(colName)\n",
    "        df=df.withColumn(colName, df[colName].cast(newType))\n",
    "    return df"
   ]
  },
  {
   "cell_type": "code",
   "execution_count": 138,
   "metadata": {},
   "outputs": [
    {
     "name": "stdout",
     "output_type": "stream",
     "text": [
      "households\n",
      "housingMedianAge\n",
      "latitude\n",
      "longitude\n",
      "medianHouseValue\n",
      "medianIncome\n",
      "population\n",
      "totalBedRooms\n",
      "totalRooms\n"
     ]
    }
   ],
   "source": [
    "# Assign all column names to `columns`\n",
    "colNames =df.columns\n",
    "newType=FloatType()\n",
    "\n",
    "# Convert DataFrame columns to FloateType()\n",
    "df=convertColumnTyupe(df, colNames, newType)"
   ]
  },
  {
   "cell_type": "code",
   "execution_count": 139,
   "metadata": {},
   "outputs": [
    {
     "name": "stdout",
     "output_type": "stream",
     "text": [
      "root\n",
      " |-- households: float (nullable = true)\n",
      " |-- housingMedianAge: float (nullable = true)\n",
      " |-- latitude: float (nullable = true)\n",
      " |-- longitude: float (nullable = true)\n",
      " |-- medianHouseValue: float (nullable = true)\n",
      " |-- medianIncome: float (nullable = true)\n",
      " |-- population: float (nullable = true)\n",
      " |-- totalBedRooms: float (nullable = true)\n",
      " |-- totalRooms: float (nullable = true)\n",
      "\n"
     ]
    }
   ],
   "source": [
    "df.printSchema()"
   ]
  },
  {
   "cell_type": "code",
   "execution_count": 140,
   "metadata": {},
   "outputs": [
    {
     "name": "stdout",
     "output_type": "stream",
     "text": [
      "+----------+----------+\n",
      "|population|totalRooms|\n",
      "+----------+----------+\n",
      "|       2.0|       2.0|\n",
      "|       2.0|       2.0|\n",
      "|       2.0|       2.0|\n",
      "|       2.0|       2.0|\n",
      "|       2.0|       2.0|\n",
      "+----------+----------+\n",
      "only showing top 5 rows\n",
      "\n"
     ]
    }
   ],
   "source": [
    "df.select('population','totalRooms').show(5)"
   ]
  },
  {
   "cell_type": "code",
   "execution_count": 141,
   "metadata": {},
   "outputs": [
    {
     "name": "stdout",
     "output_type": "stream",
     "text": [
      "+----------------+-----+\n",
      "|housingMedianAge|count|\n",
      "+----------------+-----+\n",
      "|             1.0|12433|\n",
      "|             2.0| 8207|\n",
      "+----------------+-----+\n",
      "\n"
     ]
    }
   ],
   "source": [
    "df.groupBy('housingMedianAge').count().sort('housingMedianAge', ascending=True).show()"
   ]
  },
  {
   "cell_type": "code",
   "execution_count": 142,
   "metadata": {},
   "outputs": [
    {
     "name": "stdout",
     "output_type": "stream",
     "text": [
      "+-------+-----------------+-------------------+--------+---------+----------------+------------+------------------+-------------+-----------------+\n",
      "|summary|       households|   housingMedianAge|latitude|longitude|medianHouseValue|medianIncome|        population|totalBedRooms|       totalRooms|\n",
      "+-------+-----------------+-------------------+--------+---------+----------------+------------+------------------+-------------+-----------------+\n",
      "|  count|            20640|              20640|   20640|        0|           20640|       20640|             20640|            0|            20640|\n",
      "|   mean| 4.54312015503876| 1.3976259689922481|     1.0|     null|             0.0|         0.0|3.8197674418604652|         null|5.166036821705426|\n",
      "| stddev|2.873140433308782|0.48941920984696774|     0.0|     null|             0.0|         0.0| 2.923293251863948|         null| 3.14998088304445|\n",
      "|    min|              0.0|                1.0|     1.0|     null|             0.0|         0.0|               0.0|         null|              0.0|\n",
      "|    max|              9.0|                2.0|     1.0|     null|             0.0|         0.0|               9.0|         null|              9.0|\n",
      "+-------+-----------------+-------------------+--------+---------+----------------+------------+------------------+-------------+-----------------+\n",
      "\n"
     ]
    }
   ],
   "source": [
    "df.describe().show()"
   ]
  },
  {
   "cell_type": "markdown",
   "metadata": {},
   "source": [
    "### Adjust the values of `medianHouseValue`"
   ]
  },
  {
   "cell_type": "code",
   "execution_count": 143,
   "metadata": {},
   "outputs": [],
   "source": [
    "df=df.withColumn('medianHouseValue', col('medianHouseValue')/10000)"
   ]
  },
  {
   "cell_type": "code",
   "execution_count": 144,
   "metadata": {},
   "outputs": [
    {
     "name": "stdout",
     "output_type": "stream",
     "text": [
      "+----------+----------------+--------+---------+----------------+------------+----------+-------------+----------+\n",
      "|households|housingMedianAge|latitude|longitude|medianHouseValue|medianIncome|population|totalBedRooms|totalRooms|\n",
      "+----------+----------------+--------+---------+----------------+------------+----------+-------------+----------+\n",
      "|       3.0|             2.0|     1.0|     null|             0.0|         0.0|       2.0|         null|       2.0|\n",
      "|       2.0|             2.0|     1.0|     null|             0.0|         0.0|       2.0|         null|       2.0|\n",
      "|       4.0|             2.0|     1.0|     null|             0.0|         0.0|       2.0|         null|       2.0|\n",
      "|       5.0|             2.0|     1.0|     null|             0.0|         0.0|       2.0|         null|       2.0|\n",
      "|       5.0|             2.0|     1.0|     null|             0.0|         0.0|       2.0|         null|       2.0|\n",
      "|       5.0|             2.0|     1.0|     null|             0.0|         0.0|       2.0|         null|       2.0|\n",
      "|       5.0|             2.0|     1.0|     null|             0.0|         0.0|       2.0|         null|       2.0|\n",
      "|       5.0|             2.0|     1.0|     null|             0.0|         0.0|       2.0|         null|       2.0|\n",
      "|       6.0|             2.0|     1.0|     null|             0.0|         0.0|       2.0|         null|       2.0|\n",
      "|       5.0|             2.0|     1.0|     null|             0.0|         0.0|       2.0|         null|       2.0|\n",
      "|       6.0|             2.0|     1.0|     null|             0.0|         0.0|       2.0|         null|       2.0|\n",
      "|       6.0|             2.0|     1.0|     null|             0.0|         0.0|       2.0|         null|       2.0|\n",
      "|       6.0|             2.0|     1.0|     null|             0.0|         0.0|       2.0|         null|       2.0|\n",
      "|       6.0|             2.0|     1.0|     null|             0.0|         0.0|       2.0|         null|       2.0|\n",
      "|       6.0|             2.0|     1.0|     null|             0.0|         0.0|       2.0|         null|       2.0|\n",
      "|       6.0|             2.0|     1.0|     null|             0.0|         0.0|       2.0|         null|       2.0|\n",
      "|       7.0|             2.0|     1.0|     null|             0.0|         0.0|       2.0|         null|       2.0|\n",
      "|       7.0|             2.0|     1.0|     null|             0.0|         0.0|       2.0|         null|       2.0|\n",
      "|       6.0|             2.0|     1.0|     null|             0.0|         0.0|       2.0|         null|       2.0|\n",
      "|       7.0|             2.0|     1.0|     null|             0.0|         0.0|       2.0|         null|       2.0|\n",
      "+----------+----------------+--------+---------+----------------+------------+----------+-------------+----------+\n",
      "only showing top 20 rows\n",
      "\n"
     ]
    }
   ],
   "source": [
    "df.show()"
   ]
  },
  {
   "cell_type": "markdown",
   "metadata": {},
   "source": [
    "### Feature Engineering"
   ]
  },
  {
   "cell_type": "code",
   "execution_count": 148,
   "metadata": {},
   "outputs": [],
   "source": [
    "# Divide `totalRooms` by `households`\n",
    "roomPerHousehold=df.select(col('totalRooms')/col('households'))"
   ]
  },
  {
   "cell_type": "code",
   "execution_count": 149,
   "metadata": {},
   "outputs": [],
   "source": [
    "# Divide `population` by `households`\n",
    "populationPerHousehold=df.select(col('population')/col('households'))"
   ]
  },
  {
   "cell_type": "code",
   "execution_count": 150,
   "metadata": {},
   "outputs": [],
   "source": [
    "# Divide `totalBedRooms` by `totalRooms`\n",
    "bedroomsPerHousehold=df.select(col('totalBedRooms')/col('totalRooms'))"
   ]
  },
  {
   "cell_type": "code",
   "execution_count": 153,
   "metadata": {},
   "outputs": [],
   "source": [
    "# Add the new columns to `df`\n",
    "df=df.withColumn('roomPerHousehold', col('totalRooms')/col('households')).withColumn(\"populationPerHousehold\", col(\"population\")/col(\"households\")).withColumn(\"bedroomsPerRoom\", col(\"totalBedRooms\")/col(\"totalRooms\"))"
   ]
  },
  {
   "cell_type": "code",
   "execution_count": 154,
   "metadata": {},
   "outputs": [
    {
     "data": {
      "text/plain": [
       "Row(households=3.0, housingMedianAge=2.0, latitude=1.0, longitude=None, medianHouseValue=0.0, medianIncome=0.0, population=2.0, totalBedRooms=None, totalRooms=2.0, roomPerHousehold=0.6666666666666666, populationPerHousehold=0.6666666666666666, bedroomsPerRoom=None)"
      ]
     },
     "execution_count": 154,
     "metadata": {},
     "output_type": "execute_result"
    }
   ],
   "source": [
    "df.first()"
   ]
  },
  {
   "cell_type": "code",
   "execution_count": null,
   "metadata": {},
   "outputs": [],
   "source": []
  }
 ],
 "metadata": {
  "kernelspec": {
   "display_name": "Python [default]",
   "language": "python",
   "name": "python3"
  },
  "language_info": {
   "codemirror_mode": {
    "name": "ipython",
    "version": 3
   },
   "file_extension": ".py",
   "mimetype": "text/x-python",
   "name": "python",
   "nbconvert_exporter": "python",
   "pygments_lexer": "ipython3",
   "version": "3.6.4"
  }
 },
 "nbformat": 4,
 "nbformat_minor": 2
}
